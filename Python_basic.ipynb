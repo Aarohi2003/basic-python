{
  "nbformat": 4,
  "nbformat_minor": 0,
  "metadata": {
    "colab": {
      "provenance": []
    },
    "kernelspec": {
      "name": "python3",
      "display_name": "Python 3"
    },
    "language_info": {
      "name": "python"
    }
  },
  "cells": [
    {
      "cell_type": "markdown",
      "source": [
        "1. What is Python, and why is it popular\n",
        "- Python is a popular interpreted programming language that has collection of libraries that helps in debugging the logics of algorithms and working on it.Is it popular enough because it has the vast applications in every field as like in data science , machine learning , artificial intelligence etc.\n"
      ],
      "metadata": {
        "id": "prdQjcwBKuhN"
      }
    },
    {
      "cell_type": "markdown",
      "source": [
        "2.  What is an interpreter in Python\n",
        "- Interpreter is the step by step process of executing the program which helps in debugging the issues that come inside the execution as we can detect it easily ."
      ],
      "metadata": {
        "id": "09QOGq3BMHxf"
      }
    },
    {
      "cell_type": "markdown",
      "source": [
        "3. What are pre-defined keywords in Python\n",
        "- predefined keywords are the keywords that are reserved for python , for performing the operations and helps us in the functions for program as they make it easier way to run a code that help in extracting complex problems."
      ],
      "metadata": {
        "id": "PKepNNVLMqz8"
      }
    },
    {
      "cell_type": "code",
      "source": [
        "4. Can keywords be used as variable names\n",
        "- no we cant use"
      ],
      "metadata": {
        "id": "88Eh_xIUNYY9"
      },
      "execution_count": null,
      "outputs": []
    },
    {
      "cell_type": "markdown",
      "source": [
        "5. What is mutability in Python\n",
        "- mutability is a just like the changable type of the data type property which  make changes in the data types after and before of execution as just illustrate by example like list has mutability i.e  we can make changes in it or add or append in it ."
      ],
      "metadata": {
        "id": "qkhdZOyfNfmH"
      }
    },
    {
      "cell_type": "markdown",
      "source": [
        "6. Why are lists mutable, but tuples are immutable\n",
        "- list are mutable as we add , append in it and make changes in it rather than tuple once executed we cannont make changes in it ."
      ],
      "metadata": {
        "id": "N-BTxDJJPj0a"
      }
    },
    {
      "cell_type": "markdown",
      "source": [
        "7. What is the difference between “==” and “is” operators in Python\n",
        "- equals to operator(==) is used to assign a value to the variable that it holds or store the value rather than (is) operator is used compare the operator or functions or values assigned earlier ."
      ],
      "metadata": {
        "id": "e5K_sv5ERD_5"
      }
    },
    {
      "cell_type": "markdown",
      "source": [
        "8. What are logical operators in Python\n",
        " - logical operators are the operators that are used to perform logical functions in a program as by binary numbers of data."
      ],
      "metadata": {
        "id": "KGfSv0i_R25L"
      }
    },
    {
      "cell_type": "markdown",
      "source": [
        "9. What is type casting in Python\n",
        "- typecasting is the conversion of one data type to another data type for required outputs to process . it has two types i.e implicit and explicit . it is used when we require to fetch the output in different form another than input data type"
      ],
      "metadata": {
        "id": "Z2XUsnpnSt2E"
      }
    },
    {
      "cell_type": "markdown",
      "source": [
        "10. What is the difference between implicit and explicit type casting\n",
        "- implicit typecasting is a typecasting that itself do the conversion that is required by the user i.e\n",
        "division of two numbers that are of int data type and result we get in a float data type so this is implicit typecasting.\n",
        "\n",
        "explicit typecasting involves that we have to change the required output by conversion of one data tye to another one for example\n",
        "a = '3'\n",
        "b = 3\n",
        "c = int(a) + b\n",
        "print (c)\n",
        "here in a we have change it data type i.e string to int so this is explicit typecasting"
      ],
      "metadata": {
        "id": "QDefkxaETpI6"
      }
    },
    {
      "cell_type": "markdown",
      "source": [
        "11. What is the purpose of conditional statements in Python\n",
        "-the purpose of conditionl statements is to solve the complex algorithms in easier way by using if else statements , loop so that it can run all the time with conditions executed regardless any error."
      ],
      "metadata": {
        "id": "t-7ZVfXTVQzb"
      }
    },
    {
      "cell_type": "markdown",
      "source": [
        "12. How does the elif statement work\n",
        "- the elif statement work if we want to use more then 2-3 conditions in a loop we use elif statement to put conditions in that and end with else condition."
      ],
      "metadata": {
        "id": "f7RaaddncshG"
      }
    },
    {
      "cell_type": "markdown",
      "source": [
        "13. What is the difference between for and while loops\n",
        "- the difference between for and while loops are as-\n",
        " for loop is always executed whether the conditions are  true or false unless any error occur rather than while loop first checks the conditions then executed ."
      ],
      "metadata": {
        "id": "dsWC2UWbdMd-"
      }
    },
    {
      "cell_type": "markdown",
      "source": [
        "14. Describe a scenario where a while loop is more suitable than a for loop\n",
        "- the condition of multiplication tables , voting system ;... etc."
      ],
      "metadata": {
        "id": "p3NFxeU6dyzV"
      }
    },
    {
      "cell_type": "code",
      "source": [
        "# 1 Write a Python program to print \"Hello, World!\n",
        "print('hello world')"
      ],
      "metadata": {
        "colab": {
          "base_uri": "https://localhost:8080/"
        },
        "id": "Gz8DBKIweWSI",
        "outputId": "c22d3f9b-0913-46d9-a455-698928beab17"
      },
      "execution_count": 1,
      "outputs": [
        {
          "output_type": "stream",
          "name": "stdout",
          "text": [
            "hello world\n"
          ]
        }
      ]
    },
    {
      "cell_type": "code",
      "source": [
        "# 2 Write a Python program that displays your name and age.\n",
        "name = 'aarohi'\n",
        "age = 22\n",
        "print(name , age)"
      ],
      "metadata": {
        "colab": {
          "base_uri": "https://localhost:8080/"
        },
        "id": "XsEoM_22esXT",
        "outputId": "87dab9f0-cf8d-4c98-8b9a-5b22c5b9c72d"
      },
      "execution_count": 2,
      "outputs": [
        {
          "output_type": "stream",
          "name": "stdout",
          "text": [
            "aarohi 22\n"
          ]
        }
      ]
    },
    {
      "cell_type": "code",
      "source": [
        "# 3 Write code to print all the pre-defined keywords in Python using the keyword library\n",
        "help('keywords')"
      ],
      "metadata": {
        "colab": {
          "base_uri": "https://localhost:8080/"
        },
        "id": "XvsjSjEyfBVM",
        "outputId": "42b041f1-aa52-4dec-b52b-14aacd470256"
      },
      "execution_count": 8,
      "outputs": [
        {
          "output_type": "stream",
          "name": "stdout",
          "text": [
            "\n",
            "Here is a list of the Python keywords.  Enter any keyword to get more help.\n",
            "\n",
            "False               class               from                or\n",
            "None                continue            global              pass\n",
            "True                def                 if                  raise\n",
            "and                 del                 import              return\n",
            "as                  elif                in                  try\n",
            "assert              else                is                  while\n",
            "async               except              lambda              with\n",
            "await               finally             nonlocal            yield\n",
            "break               for                 not                 \n",
            "\n"
          ]
        }
      ]
    },
    {
      "cell_type": "code",
      "source": [
        "# 4 Write a program that checks if a given word is a Python keyword.\n",
        "a = input('enter keyword')\n",
        "if( a == (help('keywords'))):\n",
        "   print('this is a python keyword')\n",
        "\n",
        "else:\n",
        "  print('this is not')\n",
        "\n"
      ],
      "metadata": {
        "colab": {
          "base_uri": "https://localhost:8080/"
        },
        "id": "RbGe19jhfbfU",
        "outputId": "5fb1a7c7-d358-4c9d-c94f-2f72179553c8"
      },
      "execution_count": 13,
      "outputs": [
        {
          "output_type": "stream",
          "name": "stdout",
          "text": [
            "enter keywordfor\n",
            "\n",
            "Here is a list of the Python keywords.  Enter any keyword to get more help.\n",
            "\n",
            "False               class               from                or\n",
            "None                continue            global              pass\n",
            "True                def                 if                  raise\n",
            "and                 del                 import              return\n",
            "as                  elif                in                  try\n",
            "assert              else                is                  while\n",
            "async               except              lambda              with\n",
            "await               finally             nonlocal            yield\n",
            "break               for                 not                 \n",
            "\n",
            "this is not\n"
          ]
        }
      ]
    },
    {
      "cell_type": "code",
      "source": [
        "# 5. Create a list and tuple in Python, and demonstrate how attempting to change an element works differently for each.\n",
        "# list\n",
        "# li = ['neha' , 'amit' , 'banana7']\n",
        "# li\n",
        "# li[0] = 'tanya'\n",
        "# li\n",
        "\n",
        "# output - ['tanya', 'amit', 'banana7']\n",
        "\n",
        "\n",
        "# tuple\n",
        "li = ('neha' , 'amit' , 'banana7')\n",
        "li\n",
        "li[0] = 'tanya'\n",
        "li\n",
        "li.replace('neha' , 'tanya')\n",
        "\n",
        "# output - error -- not changed\n"
      ],
      "metadata": {
        "colab": {
          "base_uri": "https://localhost:8080/",
          "height": 211
        },
        "id": "01OGWsG4gcK8",
        "outputId": "197dfe23-5852-484e-a82d-44f4a058ee1a"
      },
      "execution_count": 17,
      "outputs": [
        {
          "output_type": "error",
          "ename": "TypeError",
          "evalue": "'tuple' object does not support item assignment",
          "traceback": [
            "\u001b[0;31m---------------------------------------------------------------------------\u001b[0m",
            "\u001b[0;31mTypeError\u001b[0m                                 Traceback (most recent call last)",
            "\u001b[0;32m/tmp/ipython-input-765010247.py\u001b[0m in \u001b[0;36m<cell line: 0>\u001b[0;34m()\u001b[0m\n\u001b[1;32m     12\u001b[0m \u001b[0mli\u001b[0m \u001b[0;34m=\u001b[0m \u001b[0;34m(\u001b[0m\u001b[0;34m'neha'\u001b[0m \u001b[0;34m,\u001b[0m \u001b[0;34m'amit'\u001b[0m \u001b[0;34m,\u001b[0m \u001b[0;34m'banana7'\u001b[0m\u001b[0;34m)\u001b[0m\u001b[0;34m\u001b[0m\u001b[0;34m\u001b[0m\u001b[0m\n\u001b[1;32m     13\u001b[0m \u001b[0mli\u001b[0m\u001b[0;34m\u001b[0m\u001b[0;34m\u001b[0m\u001b[0m\n\u001b[0;32m---> 14\u001b[0;31m \u001b[0mli\u001b[0m\u001b[0;34m[\u001b[0m\u001b[0;36m0\u001b[0m\u001b[0;34m]\u001b[0m \u001b[0;34m=\u001b[0m \u001b[0;34m'tanya'\u001b[0m\u001b[0;34m\u001b[0m\u001b[0;34m\u001b[0m\u001b[0m\n\u001b[0m\u001b[1;32m     15\u001b[0m \u001b[0mli\u001b[0m\u001b[0;34m\u001b[0m\u001b[0;34m\u001b[0m\u001b[0m\n\u001b[1;32m     16\u001b[0m \u001b[0mli\u001b[0m\u001b[0;34m.\u001b[0m\u001b[0mreplace\u001b[0m\u001b[0;34m(\u001b[0m\u001b[0;34m'neha'\u001b[0m \u001b[0;34m,\u001b[0m \u001b[0;34m'tanya'\u001b[0m\u001b[0;34m)\u001b[0m\u001b[0;34m\u001b[0m\u001b[0;34m\u001b[0m\u001b[0m\n",
            "\u001b[0;31mTypeError\u001b[0m: 'tuple' object does not support item assignment"
          ]
        }
      ]
    },
    {
      "cell_type": "code",
      "source": [
        "# 6.  Write a function to demonstrate the behavior of mutable and immutable arguments.\n",
        "# list\n",
        "li = ['neha' , 'amit' , 'banana7']\n",
        "li\n",
        "li.append('kajal')\n",
        "li\n",
        "\n",
        "# output - ['neha', 'amit', 'banana7', 'kajal']------changed(mutable)\n",
        "\n",
        "\n",
        "# tuple\n",
        "li = ('neha' , 'amit' , 'banana7')\n",
        "li\n",
        "li.append('kajal')\n",
        "li\n",
        "\n",
        "# output - error --- not change (immutable)\n",
        "\n"
      ],
      "metadata": {
        "id": "FeYcBG9ohDzp"
      },
      "execution_count": null,
      "outputs": []
    },
    {
      "cell_type": "code",
      "source": [
        "# 7. Write a program that performs basic arithmetic operations on two user-input numbers.\n",
        "a = int(input('enter one number'))\n",
        "b = int(input('enter second number'))\n",
        "print('result is ' , int(a % b))\n"
      ],
      "metadata": {
        "colab": {
          "base_uri": "https://localhost:8080/"
        },
        "id": "U7nyfAgqh6d0",
        "outputId": "3d78efdc-9e92-43cf-bd9b-d4aaac90bc36"
      },
      "execution_count": 20,
      "outputs": [
        {
          "output_type": "stream",
          "name": "stdout",
          "text": [
            "enter one number2\n",
            "enter second number4\n",
            "result is  2\n"
          ]
        }
      ]
    },
    {
      "cell_type": "code",
      "source": [
        "# 8.  Write a program to demonstrate the use of logical operators\n",
        "a = 67\n",
        "bin(a)\n"
      ],
      "metadata": {
        "colab": {
          "base_uri": "https://localhost:8080/",
          "height": 36
        },
        "id": "VEH8aPV4i78P",
        "outputId": "54767c34-138c-47a4-a75e-2cfcf36d3c70"
      },
      "execution_count": 73,
      "outputs": [
        {
          "output_type": "execute_result",
          "data": {
            "text/plain": [
              "'0b1000011'"
            ],
            "application/vnd.google.colaboratory.intrinsic+json": {
              "type": "string"
            }
          },
          "metadata": {},
          "execution_count": 73
        }
      ]
    },
    {
      "cell_type": "code",
      "source": [
        "#  9. Write a Python program to convert user input from string to integer, float, and boolean types.\n",
        "a = input('write a number')\n",
        "b = 7\n",
        "c = 4.5\n",
        "print('result is ' , int(a) + b)\n",
        "print('result is ' , int(a) // c)\n",
        "print(b == c)\n",
        "\n",
        "\n"
      ],
      "metadata": {
        "colab": {
          "base_uri": "https://localhost:8080/"
        },
        "id": "TY0-XSLUjA9v",
        "outputId": "cb7fdbe4-d9ca-4a12-b31b-c92acdd5c8c0"
      },
      "execution_count": 28,
      "outputs": [
        {
          "output_type": "stream",
          "name": "stdout",
          "text": [
            "write a number7\n",
            "result is  14\n",
            "result is  1.0\n",
            "False\n"
          ]
        }
      ]
    },
    {
      "cell_type": "code",
      "source": [
        "# 10.  Write code to demonstrate type casting with list elements.\n",
        "li = [23 , 45.6 , 99.23 , 12]\n",
        "print(li[1])\n",
        "a = int(li[2])\n",
        "print(a)\n",
        "print(li)"
      ],
      "metadata": {
        "colab": {
          "base_uri": "https://localhost:8080/"
        },
        "id": "cNPrkdtdkohu",
        "outputId": "5c14e15a-5f1a-4757-ce5a-3a0cfe218560"
      },
      "execution_count": 35,
      "outputs": [
        {
          "output_type": "stream",
          "name": "stdout",
          "text": [
            "45.6\n",
            "99\n",
            "[23, 45.6, 99.23, 12]\n"
          ]
        }
      ]
    },
    {
      "cell_type": "code",
      "source": [
        "# 11 .  Write a program that checks if a number is positive, negative, or zero.\n",
        "a = int(input('write a no'))\n",
        "print(a)\n",
        "\n",
        "if (a>0):\n",
        "  print(\"positive\")\n",
        "\n",
        "elif (a<0):\n",
        "  print('negative')\n",
        "\n",
        "else:\n",
        "  print('zero')\n",
        "\n",
        "\n",
        "\n",
        "\n",
        "\n"
      ],
      "metadata": {
        "colab": {
          "base_uri": "https://localhost:8080/"
        },
        "id": "HsANNtmdllz3",
        "outputId": "d1074417-0841-4ff7-bc04-a139730cad82"
      },
      "execution_count": 42,
      "outputs": [
        {
          "output_type": "stream",
          "name": "stdout",
          "text": [
            "write a no0\n",
            "0\n",
            "zero\n"
          ]
        }
      ]
    },
    {
      "cell_type": "code",
      "source": [
        "# 12. Write a for loop to print numbers from 1 to 10.\n",
        "for i in range(1,11):\n",
        "  print(i)"
      ],
      "metadata": {
        "colab": {
          "base_uri": "https://localhost:8080/"
        },
        "id": "Hj4ZROB_mnKp",
        "outputId": "a3b7dc9d-7d5d-4eec-f1f9-17c36365de6e"
      },
      "execution_count": 44,
      "outputs": [
        {
          "output_type": "stream",
          "name": "stdout",
          "text": [
            "1\n",
            "2\n",
            "3\n",
            "4\n",
            "5\n",
            "6\n",
            "7\n",
            "8\n",
            "9\n",
            "10\n"
          ]
        }
      ]
    },
    {
      "cell_type": "code",
      "source": [
        "# 13. Write a Python program to find the sum of all even numbers between 1 and 50.\n",
        "for i in range(1,51):\n",
        "\n",
        "\n",
        "  if (i % 2 == 0 ):\n",
        "    print(i)\n",
        "\n"
      ],
      "metadata": {
        "colab": {
          "base_uri": "https://localhost:8080/"
        },
        "id": "fxXxWEObm09B",
        "outputId": "21d47b4b-cd26-4d4e-89ce-96be22e4b686"
      },
      "execution_count": 54,
      "outputs": [
        {
          "output_type": "stream",
          "name": "stdout",
          "text": [
            "2\n",
            "4\n",
            "6\n",
            "8\n",
            "10\n",
            "12\n",
            "14\n",
            "16\n",
            "18\n",
            "20\n",
            "22\n",
            "24\n",
            "26\n",
            "28\n",
            "30\n",
            "32\n",
            "34\n",
            "36\n",
            "38\n",
            "40\n",
            "42\n",
            "44\n",
            "46\n",
            "48\n",
            "50\n"
          ]
        }
      ]
    },
    {
      "cell_type": "code",
      "source": [
        "# 14. Write a program to reverse a string using a while loop.\n",
        "li = ['banana' , 'apple' , 'onion' , 'tomator']\n",
        "print(li)\n",
        "\n",
        "li[-1]\n"
      ],
      "metadata": {
        "colab": {
          "base_uri": "https://localhost:8080/",
          "height": 53
        },
        "id": "s-Y94KpXoAs_",
        "outputId": "9d7ec4f4-2ca4-4237-88f2-f403b4eab368"
      },
      "execution_count": 72,
      "outputs": [
        {
          "output_type": "stream",
          "name": "stdout",
          "text": [
            "['banana', 'apple', 'onion', 'tomator']\n"
          ]
        },
        {
          "output_type": "execute_result",
          "data": {
            "text/plain": [
              "'tomator'"
            ],
            "application/vnd.google.colaboratory.intrinsic+json": {
              "type": "string"
            }
          },
          "metadata": {},
          "execution_count": 72
        }
      ]
    },
    {
      "cell_type": "code",
      "source": [
        "# 15. Write a Python program to calculate the factorial of a number provided by the user using a while loop.\n",
        "i = 1\n",
        "num = 3\n",
        "i = num - i\n",
        "a = (num * (num - i))\n",
        "print(int(a))"
      ],
      "metadata": {
        "colab": {
          "base_uri": "https://localhost:8080/"
        },
        "id": "LeNHDX_torv7",
        "outputId": "a058428d-8438-466c-846d-93154fe02d5d"
      },
      "execution_count": 69,
      "outputs": [
        {
          "output_type": "stream",
          "name": "stdout",
          "text": [
            "3\n"
          ]
        }
      ]
    }
  ]
}